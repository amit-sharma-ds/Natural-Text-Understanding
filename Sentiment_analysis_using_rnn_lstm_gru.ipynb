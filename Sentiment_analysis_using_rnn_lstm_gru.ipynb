{
  "metadata": {
    "kernelspec": {
      "language": "python",
      "display_name": "Python 3",
      "name": "python3"
    },
    "language_info": {
      "name": "python",
      "version": "3.10.12",
      "mimetype": "text/x-python",
      "codemirror_mode": {
        "name": "ipython",
        "version": 3
      },
      "pygments_lexer": "ipython3",
      "nbconvert_exporter": "python",
      "file_extension": ".py"
    },
    "kaggle": {
      "accelerator": "gpu",
      "dataSources": [
        {
          "sourceId": 800230,
          "sourceType": "datasetVersion",
          "datasetId": 1305
        }
      ],
      "dockerImageVersionId": 30559,
      "isInternetEnabled": true,
      "language": "python",
      "sourceType": "notebook",
      "isGpuEnabled": true
    },
    "colab": {
      "provenance": []
    }
  },
  "nbformat_minor": 0,
  "nbformat": 4,
  "cells": [
    {
      "cell_type": "markdown",
      "source": [
        "# Imports"
      ],
      "metadata": {
        "id": "xtkZeWMcLe9E"
      }
    },
    {
      "cell_type": "code",
      "source": [
        "import numpy as np\n",
        "import pandas as pd\n",
        "import matplotlib.pyplot as plt\n",
        "\n",
        "from sklearn.model_selection import train_test_split\n",
        "from sklearn.metrics import confusion_matrix, classification_report\n",
        "\n",
        "from tensorflow.keras.preprocessing.text import Tokenizer\n",
        "from tensorflow.keras.preprocessing.sequence import pad_sequences\n",
        "from tensorflow.keras.layers import Embedding, SimpleRNN, GRU, Bidirectional, LSTM, Dense, Dropout, LayerNormalization\n",
        "from tensorflow.keras.optimizers import Adam\n",
        "from tensorflow.keras.models import Sequential\n",
        "from tensorflow.keras.callbacks import EarlyStopping\n",
        "\n",
        "import bz2\n",
        "import csv\n",
        "import re\n"
      ],
      "metadata": {
        "_uuid": "8f2839f25d086af736a60e9eeb907d3b93b6e0e5",
        "_cell_guid": "b1076dfc-b9ad-4769-8c92-a6c4dae69d19",
        "execution": {
          "iopub.status.busy": "2025-03-07T18:28:33.144525Z",
          "iopub.execute_input": "2025-03-07T18:28:33.145292Z",
          "iopub.status.idle": "2025-03-07T18:28:33.150430Z",
          "shell.execute_reply.started": "2025-03-07T18:28:33.145260Z",
          "shell.execute_reply": "2025-03-07T18:28:33.149508Z"
        },
        "trusted": true,
        "id": "IVMiHFSsLe9H"
      },
      "outputs": [],
      "execution_count": 23
    },
    {
      "cell_type": "markdown",
      "source": [
        "# Loading Datasets"
      ],
      "metadata": {
        "id": "vqMNEPOBLe9J"
      }
    },
    {
      "cell_type": "code",
      "source": [
        "with open(\"/content/train.ft.txt\", \"r\", encoding='utf-8') as f:\n",
        "    training_data = [f.readline().strip() for _ in range(3000)]\n",
        "\n",
        "with open(\"/content/test.ft.txt\", \"r\", encoding='utf-8') as f:\n",
        "    test_data = [f.readline().strip() for _ in range(1000)]\n"
      ],
      "metadata": {
        "execution": {
          "iopub.status.busy": "2025-03-07T18:28:35.081650Z",
          "iopub.execute_input": "2025-03-07T18:28:35.081998Z",
          "iopub.status.idle": "2025-03-07T18:28:35.207076Z",
          "shell.execute_reply.started": "2025-03-07T18:28:35.081970Z",
          "shell.execute_reply": "2025-03-07T18:28:35.206214Z"
        },
        "trusted": true,
        "id": "UQUhCmHnLe9K"
      },
      "outputs": [],
      "execution_count": 24
    },
    {
      "cell_type": "markdown",
      "source": [
        "# Preparing Dataset"
      ],
      "metadata": {
        "id": "ZdgcBOf8Le9L"
      }
    },
    {
      "cell_type": "code",
      "source": [
        "training_data[0]"
      ],
      "metadata": {
        "trusted": true,
        "execution": {
          "iopub.status.busy": "2025-03-07T18:28:37.059696Z",
          "iopub.execute_input": "2025-03-07T18:28:37.060026Z",
          "iopub.status.idle": "2025-03-07T18:28:37.065365Z",
          "shell.execute_reply.started": "2025-03-07T18:28:37.060000Z",
          "shell.execute_reply": "2025-03-07T18:28:37.064469Z"
        },
        "colab": {
          "base_uri": "https://localhost:8080/",
          "height": 88
        },
        "id": "UT2suSV4Le9M",
        "outputId": "8c118f51-2e38-430f-f9ec-75768cb66543"
      },
      "outputs": [
        {
          "output_type": "execute_result",
          "data": {
            "text/plain": [
              "'__label__2 Stuning even for the non-gamer: This sound track was beautiful! It paints the senery in your mind so well I would recomend it even to people who hate vid. game music! I have played the game Chrono Cross but out of all of the games I have ever played it has the best music! It backs away from crude keyboarding and takes a fresher step with grate guitars and soulful orchestras. It would impress anyone who cares to listen! ^_^'"
            ],
            "application/vnd.google.colaboratory.intrinsic+json": {
              "type": "string"
            }
          },
          "metadata": {},
          "execution_count": 25
        }
      ],
      "execution_count": 25
    },
    {
      "cell_type": "code",
      "source": [
        "# Split the data into labels and texts\n",
        "training_labels = [int(re.findall(r'__label__(\\d)', line)[0]) for line in training_data]\n",
        "training_texts = [re.sub(r'__label__\\d ', '', line) for line in training_data]\n",
        "\n",
        "test_labels = [int(re.findall(r'__label__(\\d)', line)[0]) for line in test_data]\n",
        "test_texts = [re.sub(r'__label__\\d ', '', line) for line in test_data]\n",
        "\n",
        "# Convert labels to binary (0 and 1)\n",
        "training_labels = [0 if label == 1 else 1 for label in training_labels]\n",
        "test_labels = [0 if label == 1 else 1 for label in test_labels]\n"
      ],
      "metadata": {
        "execution": {
          "iopub.status.busy": "2025-03-07T18:28:37.536008Z",
          "iopub.execute_input": "2025-03-07T18:28:37.536284Z",
          "iopub.status.idle": "2025-03-07T18:28:37.551483Z",
          "shell.execute_reply.started": "2025-03-07T18:28:37.536263Z",
          "shell.execute_reply": "2025-03-07T18:28:37.550899Z"
        },
        "trusted": true,
        "id": "dz-mwZkkLe9N"
      },
      "outputs": [],
      "execution_count": 26
    },
    {
      "cell_type": "code",
      "source": [
        "test_labels[:20]"
      ],
      "metadata": {
        "trusted": true,
        "execution": {
          "iopub.status.busy": "2025-03-07T18:28:39.558780Z",
          "iopub.execute_input": "2025-03-07T18:28:39.559571Z",
          "iopub.status.idle": "2025-03-07T18:28:39.564973Z",
          "shell.execute_reply.started": "2025-03-07T18:28:39.559539Z",
          "shell.execute_reply": "2025-03-07T18:28:39.564158Z"
        },
        "colab": {
          "base_uri": "https://localhost:8080/"
        },
        "id": "BS6Bx5STLe9N",
        "outputId": "221c246a-8cc3-4307-8aec-91c9722e0c04"
      },
      "outputs": [
        {
          "output_type": "execute_result",
          "data": {
            "text/plain": [
              "[1, 1, 0, 1, 1, 0, 0, 0, 1, 0, 1, 0, 0, 1, 0, 0, 1, 1, 1, 1]"
            ]
          },
          "metadata": {},
          "execution_count": 27
        }
      ],
      "execution_count": 27
    },
    {
      "cell_type": "markdown",
      "source": [
        "# Text Cleaning"
      ],
      "metadata": {
        "id": "bkfIiQlXLe9O"
      }
    },
    {
      "cell_type": "code",
      "source": [
        "import re\n",
        "import nltk\n",
        "import pandas as pd\n",
        "from nltk.corpus import stopwords\n",
        "from nltk.stem import PorterStemmer\n",
        "\n",
        "# Download stopwords if not already downloaded\n",
        "nltk.download('stopwords')\n",
        "\n",
        "def clean_text(text):\n",
        "    \"\"\"Cleans text by lowercasing, removing stopwords, and applying stemming.\"\"\"\n",
        "    ps = PorterStemmer()\n",
        "    stop_words = set(stopwords.words('english'))\n",
        "\n",
        "    # Convert to lowercase\n",
        "    text = text.lower()\n",
        "\n",
        "    # Remove non-alphabetic characters (keep spaces)\n",
        "    text = re.sub(r'[^a-z\\s]', '', text)\n",
        "\n",
        "    # Tokenize and remove stopwords, apply stemming\n",
        "    words = text.split()\n",
        "    words = [ps.stem(word) for word in words if word not in stop_words]\n",
        "\n",
        "    # Join words back into a string\n",
        "    return \" \".join(words)\n",
        "\n",
        "# Apply function to training and test texts\n",
        "training_texts = [clean_text(text) for text in training_texts]\n",
        "test_texts = [clean_text(text) for text in test_texts]"
      ],
      "metadata": {
        "trusted": true,
        "execution": {
          "iopub.status.busy": "2025-03-07T18:28:42.645826Z",
          "iopub.execute_input": "2025-03-07T18:28:42.646201Z",
          "iopub.status.idle": "2025-03-07T18:28:46.559707Z",
          "shell.execute_reply.started": "2025-03-07T18:28:42.646174Z",
          "shell.execute_reply": "2025-03-07T18:28:46.558993Z"
        },
        "colab": {
          "base_uri": "https://localhost:8080/"
        },
        "id": "0dU0DkXiLe9O",
        "outputId": "ac65240b-a50a-4d3a-bb00-c81eaf9e8bab"
      },
      "outputs": [
        {
          "output_type": "stream",
          "name": "stderr",
          "text": [
            "[nltk_data] Downloading package stopwords to /root/nltk_data...\n",
            "[nltk_data]   Package stopwords is already up-to-date!\n"
          ]
        }
      ],
      "execution_count": 28
    },
    {
      "cell_type": "code",
      "source": [
        "training_texts[0]"
      ],
      "metadata": {
        "trusted": true,
        "execution": {
          "iopub.status.busy": "2025-03-07T18:28:46.561298Z",
          "iopub.execute_input": "2025-03-07T18:28:46.562023Z",
          "iopub.status.idle": "2025-03-07T18:28:46.567303Z",
          "shell.execute_reply.started": "2025-03-07T18:28:46.561986Z",
          "shell.execute_reply": "2025-03-07T18:28:46.566529Z"
        },
        "colab": {
          "base_uri": "https://localhost:8080/",
          "height": 53
        },
        "id": "SLh6wsLJLe9P",
        "outputId": "96890ad8-64b0-475f-ae00-96c16992ce85"
      },
      "outputs": [
        {
          "output_type": "execute_result",
          "data": {
            "text/plain": [
              "'stune even nongam sound track beauti paint seneri mind well would recomend even peopl hate vid game music play game chrono cross game ever play best music back away crude keyboard take fresher step grate guitar soul orchestra would impress anyon care listen'"
            ],
            "application/vnd.google.colaboratory.intrinsic+json": {
              "type": "string"
            }
          },
          "metadata": {},
          "execution_count": 29
        }
      ],
      "execution_count": 29
    },
    {
      "cell_type": "markdown",
      "source": [
        "# Tokenization"
      ],
      "metadata": {
        "id": "pnr4w6imLe9Q"
      }
    },
    {
      "cell_type": "code",
      "source": [
        "# Tokenization and padding\n",
        "max_words = 1000\n",
        "max_sequence_length = 100\n",
        "\n",
        "tokenizer = Tokenizer(num_words=max_words)\n",
        "tokenizer.fit_on_texts(training_texts)\n",
        "\n",
        "X_train = tokenizer.texts_to_sequences(training_texts)\n",
        "X_test = tokenizer.texts_to_sequences(test_texts)\n",
        "\n",
        "X_train = pad_sequences(X_train, maxlen=max_sequence_length)\n",
        "X_test = pad_sequences(X_test, maxlen=max_sequence_length)\n"
      ],
      "metadata": {
        "execution": {
          "iopub.status.busy": "2025-03-07T18:28:49.197213Z",
          "iopub.execute_input": "2025-03-07T18:28:49.197544Z",
          "iopub.status.idle": "2025-03-07T18:28:49.386021Z",
          "shell.execute_reply.started": "2025-03-07T18:28:49.197516Z",
          "shell.execute_reply": "2025-03-07T18:28:49.385135Z"
        },
        "trusted": true,
        "id": "jG75mc4VLe9Q"
      },
      "outputs": [],
      "execution_count": 30
    },
    {
      "cell_type": "code",
      "source": [
        "X_train = np.array(X_train)\n",
        "print(X_train.shape)\n",
        "X_test = np.array(X_test)\n",
        "print(X_test.shape)\n",
        "y_train = np.array(training_labels)\n",
        "print(y_train.shape)\n",
        "y_test = np.array(test_labels)\n",
        "print(y_test.shape)"
      ],
      "metadata": {
        "execution": {
          "iopub.status.busy": "2025-03-07T18:28:51.240851Z",
          "iopub.execute_input": "2025-03-07T18:28:51.241655Z",
          "iopub.status.idle": "2025-03-07T18:28:51.248296Z",
          "shell.execute_reply.started": "2025-03-07T18:28:51.241623Z",
          "shell.execute_reply": "2025-03-07T18:28:51.247479Z"
        },
        "trusted": true,
        "colab": {
          "base_uri": "https://localhost:8080/"
        },
        "id": "qh4_fsOsLe9Q",
        "outputId": "10e6e9ed-95c4-4fde-d831-c484876254b2"
      },
      "outputs": [
        {
          "output_type": "stream",
          "name": "stdout",
          "text": [
            "(3000, 100)\n",
            "(1000, 100)\n",
            "(3000,)\n",
            "(1000,)\n"
          ]
        }
      ],
      "execution_count": 31
    },
    {
      "cell_type": "markdown",
      "source": [
        "# Training RNN"
      ],
      "metadata": {
        "id": "Ga7W3LLOLe9R"
      }
    },
    {
      "cell_type": "code",
      "source": [
        "\n",
        "\n",
        "# Define improved RNN model\n",
        "model = Sequential([\n",
        "    Embedding(input_dim=max_words, output_dim=300, input_length=max_sequence_length),  # Increased embedding size\n",
        "    SimpleRNN(128, return_sequences=True, dropout=0.3),  # RNN layer with dropout\n",
        "    LayerNormalization(),  # Added normalization for stability\n",
        "    SimpleRNN(128, dropout=0.3),  # Second RNN layer\n",
        "    LayerNormalization(),\n",
        "    Dropout(0.3),\n",
        "    Dense(64, activation=\"relu\"),  # Extra dense layer\n",
        "    Dropout(0.2),\n",
        "    Dense(1, activation='sigmoid')  # Binary classification\n",
        "])\n",
        "\n",
        "# Compile with lower learning rate\n",
        "model.compile(loss='binary_crossentropy', optimizer=Adam(learning_rate=5e-5), metrics=['accuracy'])\n",
        "\n",
        "# Early stopping\n",
        "early_stopping = EarlyStopping(monitor='val_loss', patience=5, restore_best_weights=True)\n",
        "\n",
        "# Train model\n",
        "history = model.fit(X_train, y_train, epochs=50, batch_size=512, validation_data=(X_test, y_test), callbacks=[early_stopping], verbose=1)\n",
        "\n",
        "# Extract values from history\n",
        "epochs = range(1, len(history.history['accuracy']) + 1)\n",
        "train_acc = history.history['accuracy']\n",
        "val_acc = history.history['val_accuracy']\n",
        "train_loss = history.history['loss']\n",
        "val_loss = history.history['val_loss']\n",
        "\n",
        "# Plot Accuracy\n",
        "plt.figure(figsize=(12, 5))\n",
        "\n",
        "plt.subplot(1, 2, 1)\n",
        "plt.plot(epochs, train_acc, 'bo-', label='Training Accuracy')\n",
        "plt.plot(epochs, val_acc, 'r*-', label='Validation Accuracy')\n",
        "plt.xlabel('Epochs')\n",
        "plt.ylabel('Accuracy')\n",
        "plt.title('Training vs Validation Accuracy')\n",
        "plt.legend()\n",
        "\n",
        "# Plot Loss\n",
        "plt.subplot(1, 2, 2)\n",
        "plt.plot(epochs, train_loss, 'bo-', label='Training Loss')\n",
        "plt.plot(epochs, val_loss, 'r*-', label='Validation Loss')\n",
        "plt.xlabel('Epochs')\n",
        "plt.ylabel('Loss')\n",
        "plt.title('Training vs Validation Loss')\n",
        "plt.legend()\n",
        "\n",
        "plt.show()\n"
      ],
      "metadata": {
        "trusted": true,
        "execution": {
          "iopub.status.busy": "2025-03-07T18:28:58.417090Z",
          "iopub.execute_input": "2025-03-07T18:28:58.417383Z",
          "iopub.status.idle": "2025-03-07T18:30:11.268823Z",
          "shell.execute_reply.started": "2025-03-07T18:28:58.417362Z",
          "shell.execute_reply": "2025-03-07T18:30:11.268050Z"
        },
        "colab": {
          "base_uri": "https://localhost:8080/",
          "height": 1000
        },
        "id": "END4xN4dLe9S",
        "outputId": "b4dde7ef-788b-4942-bfbc-b8764c85a8c9"
      },
      "outputs": [
        {
          "output_type": "stream",
          "name": "stdout",
          "text": [
            "Epoch 1/50\n"
          ]
        },
        {
          "output_type": "stream",
          "name": "stderr",
          "text": [
            "/usr/local/lib/python3.11/dist-packages/keras/src/layers/core/embedding.py:90: UserWarning: Argument `input_length` is deprecated. Just remove it.\n",
            "  warnings.warn(\n"
          ]
        },
        {
          "output_type": "stream",
          "name": "stdout",
          "text": [
            "\u001b[1m6/6\u001b[0m \u001b[32m━━━━━━━━━━━━━━━━━━━━\u001b[0m\u001b[37m\u001b[0m \u001b[1m18s\u001b[0m 2s/step - accuracy: 0.5082 - loss: 0.8894 - val_accuracy: 0.5000 - val_loss: 0.7454\n",
            "Epoch 2/50\n",
            "\u001b[1m6/6\u001b[0m \u001b[32m━━━━━━━━━━━━━━━━━━━━\u001b[0m\u001b[37m\u001b[0m \u001b[1m15s\u001b[0m 1s/step - accuracy: 0.5146 - loss: 0.8350 - val_accuracy: 0.5180 - val_loss: 0.7237\n",
            "Epoch 3/50\n",
            "\u001b[1m6/6\u001b[0m \u001b[32m━━━━━━━━━━━━━━━━━━━━\u001b[0m\u001b[37m\u001b[0m \u001b[1m11s\u001b[0m 1s/step - accuracy: 0.5224 - loss: 0.8137 - val_accuracy: 0.5150 - val_loss: 0.7216\n",
            "Epoch 4/50\n",
            "\u001b[1m6/6\u001b[0m \u001b[32m━━━━━━━━━━━━━━━━━━━━\u001b[0m\u001b[37m\u001b[0m \u001b[1m12s\u001b[0m 1s/step - accuracy: 0.5137 - loss: 0.7936 - val_accuracy: 0.5260 - val_loss: 0.7163\n",
            "Epoch 5/50\n",
            "\u001b[1m6/6\u001b[0m \u001b[32m━━━━━━━━━━━━━━━━━━━━\u001b[0m\u001b[37m\u001b[0m \u001b[1m6s\u001b[0m 1s/step - accuracy: 0.5287 - loss: 0.7725 - val_accuracy: 0.5010 - val_loss: 0.7085\n",
            "Epoch 6/50\n",
            "\u001b[1m6/6\u001b[0m \u001b[32m━━━━━━━━━━━━━━━━━━━━\u001b[0m\u001b[37m\u001b[0m \u001b[1m12s\u001b[0m 1s/step - accuracy: 0.5399 - loss: 0.7652 - val_accuracy: 0.5010 - val_loss: 0.7077\n",
            "Epoch 7/50\n",
            "\u001b[1m6/6\u001b[0m \u001b[32m━━━━━━━━━━━━━━━━━━━━\u001b[0m\u001b[37m\u001b[0m \u001b[1m12s\u001b[0m 2s/step - accuracy: 0.5362 - loss: 0.7696 - val_accuracy: 0.5030 - val_loss: 0.7036\n",
            "Epoch 8/50\n",
            "\u001b[1m6/6\u001b[0m \u001b[32m━━━━━━━━━━━━━━━━━━━━\u001b[0m\u001b[37m\u001b[0m \u001b[1m8s\u001b[0m 1s/step - accuracy: 0.5301 - loss: 0.7615 - val_accuracy: 0.5150 - val_loss: 0.7023\n",
            "Epoch 9/50\n",
            "\u001b[1m6/6\u001b[0m \u001b[32m━━━━━━━━━━━━━━━━━━━━\u001b[0m\u001b[37m\u001b[0m \u001b[1m10s\u001b[0m 1s/step - accuracy: 0.4982 - loss: 0.7741 - val_accuracy: 0.5190 - val_loss: 0.6995\n",
            "Epoch 10/50\n",
            "\u001b[1m6/6\u001b[0m \u001b[32m━━━━━━━━━━━━━━━━━━━━\u001b[0m\u001b[37m\u001b[0m \u001b[1m8s\u001b[0m 1s/step - accuracy: 0.5354 - loss: 0.7545 - val_accuracy: 0.5250 - val_loss: 0.6978\n",
            "Epoch 11/50\n",
            "\u001b[1m6/6\u001b[0m \u001b[32m━━━━━━━━━━━━━━━━━━━━\u001b[0m\u001b[37m\u001b[0m \u001b[1m8s\u001b[0m 1s/step - accuracy: 0.5195 - loss: 0.7500 - val_accuracy: 0.5250 - val_loss: 0.6971\n",
            "Epoch 12/50\n",
            "\u001b[1m6/6\u001b[0m \u001b[32m━━━━━━━━━━━━━━━━━━━━\u001b[0m\u001b[37m\u001b[0m \u001b[1m14s\u001b[0m 2s/step - accuracy: 0.5050 - loss: 0.7428 - val_accuracy: 0.5290 - val_loss: 0.6967\n",
            "Epoch 13/50\n",
            "\u001b[1m6/6\u001b[0m \u001b[32m━━━━━━━━━━━━━━━━━━━━\u001b[0m\u001b[37m\u001b[0m \u001b[1m9s\u001b[0m 1s/step - accuracy: 0.5384 - loss: 0.7305 - val_accuracy: 0.5330 - val_loss: 0.6976\n",
            "Epoch 14/50\n",
            "\u001b[1m6/6\u001b[0m \u001b[32m━━━━━━━━━━━━━━━━━━━━\u001b[0m\u001b[37m\u001b[0m \u001b[1m9s\u001b[0m 1s/step - accuracy: 0.5210 - loss: 0.7429 - val_accuracy: 0.5240 - val_loss: 0.6944\n",
            "Epoch 15/50\n",
            "\u001b[1m6/6\u001b[0m \u001b[32m━━━━━━━━━━━━━━━━━━━━\u001b[0m\u001b[37m\u001b[0m \u001b[1m8s\u001b[0m 1s/step - accuracy: 0.5725 - loss: 0.7066 - val_accuracy: 0.5250 - val_loss: 0.6937\n",
            "Epoch 16/50\n",
            "\u001b[1m6/6\u001b[0m \u001b[32m━━━━━━━━━━━━━━━━━━━━\u001b[0m\u001b[37m\u001b[0m \u001b[1m10s\u001b[0m 1s/step - accuracy: 0.5392 - loss: 0.7319 - val_accuracy: 0.5310 - val_loss: 0.6920\n",
            "Epoch 17/50\n",
            "\u001b[1m6/6\u001b[0m \u001b[32m━━━━━━━━━━━━━━━━━━━━\u001b[0m\u001b[37m\u001b[0m \u001b[1m11s\u001b[0m 2s/step - accuracy: 0.5322 - loss: 0.7247 - val_accuracy: 0.5400 - val_loss: 0.6937\n",
            "Epoch 18/50\n",
            "\u001b[1m6/6\u001b[0m \u001b[32m━━━━━━━━━━━━━━━━━━━━\u001b[0m\u001b[37m\u001b[0m \u001b[1m7s\u001b[0m 1s/step - accuracy: 0.5392 - loss: 0.7142 - val_accuracy: 0.5400 - val_loss: 0.6903\n",
            "Epoch 19/50\n",
            "\u001b[1m6/6\u001b[0m \u001b[32m━━━━━━━━━━━━━━━━━━━━\u001b[0m\u001b[37m\u001b[0m \u001b[1m8s\u001b[0m 1s/step - accuracy: 0.5549 - loss: 0.7074 - val_accuracy: 0.5350 - val_loss: 0.6878\n",
            "Epoch 20/50\n",
            "\u001b[1m6/6\u001b[0m \u001b[32m━━━━━━━━━━━━━━━━━━━━\u001b[0m\u001b[37m\u001b[0m \u001b[1m10s\u001b[0m 1s/step - accuracy: 0.5430 - loss: 0.7139 - val_accuracy: 0.5370 - val_loss: 0.6874\n",
            "Epoch 21/50\n",
            "\u001b[1m6/6\u001b[0m \u001b[32m━━━━━━━━━━━━━━━━━━━━\u001b[0m\u001b[37m\u001b[0m \u001b[1m10s\u001b[0m 1s/step - accuracy: 0.5548 - loss: 0.7016 - val_accuracy: 0.5440 - val_loss: 0.6870\n",
            "Epoch 22/50\n",
            "\u001b[1m6/6\u001b[0m \u001b[32m━━━━━━━━━━━━━━━━━━━━\u001b[0m\u001b[37m\u001b[0m \u001b[1m10s\u001b[0m 1s/step - accuracy: 0.5545 - loss: 0.7051 - val_accuracy: 0.5430 - val_loss: 0.6855\n",
            "Epoch 23/50\n",
            "\u001b[1m6/6\u001b[0m \u001b[32m━━━━━━━━━━━━━━━━━━━━\u001b[0m\u001b[37m\u001b[0m \u001b[1m12s\u001b[0m 1s/step - accuracy: 0.5512 - loss: 0.7131 - val_accuracy: 0.5420 - val_loss: 0.6852\n",
            "Epoch 24/50\n",
            "\u001b[1m6/6\u001b[0m \u001b[32m━━━━━━━━━━━━━━━━━━━━\u001b[0m\u001b[37m\u001b[0m \u001b[1m8s\u001b[0m 1s/step - accuracy: 0.5564 - loss: 0.7032 - val_accuracy: 0.5540 - val_loss: 0.6823\n",
            "Epoch 25/50\n",
            "\u001b[1m6/6\u001b[0m \u001b[32m━━━━━━━━━━━━━━━━━━━━\u001b[0m\u001b[37m\u001b[0m \u001b[1m11s\u001b[0m 1s/step - accuracy: 0.5420 - loss: 0.7109 - val_accuracy: 0.5530 - val_loss: 0.6840\n",
            "Epoch 26/50\n",
            "\u001b[1m6/6\u001b[0m \u001b[32m━━━━━━━━━━━━━━━━━━━━\u001b[0m\u001b[37m\u001b[0m \u001b[1m8s\u001b[0m 1s/step - accuracy: 0.5514 - loss: 0.7003 - val_accuracy: 0.5520 - val_loss: 0.6805\n",
            "Epoch 27/50\n",
            "\u001b[1m6/6\u001b[0m \u001b[32m━━━━━━━━━━━━━━━━━━━━\u001b[0m\u001b[37m\u001b[0m \u001b[1m9s\u001b[0m 1s/step - accuracy: 0.5620 - loss: 0.7005 - val_accuracy: 0.5800 - val_loss: 0.6770\n",
            "Epoch 28/50\n",
            "\u001b[1m6/6\u001b[0m \u001b[32m━━━━━━━━━━━━━━━━━━━━\u001b[0m\u001b[37m\u001b[0m \u001b[1m8s\u001b[0m 1s/step - accuracy: 0.5627 - loss: 0.6947 - val_accuracy: 0.5610 - val_loss: 0.6789\n",
            "Epoch 29/50\n",
            "\u001b[1m6/6\u001b[0m \u001b[32m━━━━━━━━━━━━━━━━━━━━\u001b[0m\u001b[37m\u001b[0m \u001b[1m11s\u001b[0m 1s/step - accuracy: 0.5786 - loss: 0.6865 - val_accuracy: 0.5800 - val_loss: 0.6724\n",
            "Epoch 30/50\n",
            "\u001b[1m6/6\u001b[0m \u001b[32m━━━━━━━━━━━━━━━━━━━━\u001b[0m\u001b[37m\u001b[0m \u001b[1m9s\u001b[0m 1s/step - accuracy: 0.5983 - loss: 0.6740 - val_accuracy: 0.5770 - val_loss: 0.6698\n",
            "Epoch 31/50\n",
            "\u001b[1m6/6\u001b[0m \u001b[32m━━━━━━━━━━━━━━━━━━━━\u001b[0m\u001b[37m\u001b[0m \u001b[1m10s\u001b[0m 1s/step - accuracy: 0.6205 - loss: 0.6578 - val_accuracy: 0.5720 - val_loss: 0.6715\n",
            "Epoch 32/50\n",
            "\u001b[1m6/6\u001b[0m \u001b[32m━━━━━━━━━━━━━━━━━━━━\u001b[0m\u001b[37m\u001b[0m \u001b[1m8s\u001b[0m 1s/step - accuracy: 0.5939 - loss: 0.6794 - val_accuracy: 0.5910 - val_loss: 0.6609\n",
            "Epoch 33/50\n",
            "\u001b[1m6/6\u001b[0m \u001b[32m━━━━━━━━━━━━━━━━━━━━\u001b[0m\u001b[37m\u001b[0m \u001b[1m9s\u001b[0m 1s/step - accuracy: 0.5989 - loss: 0.6636 - val_accuracy: 0.5890 - val_loss: 0.6566\n",
            "Epoch 34/50\n",
            "\u001b[1m6/6\u001b[0m \u001b[32m━━━━━━━━━━━━━━━━━━━━\u001b[0m\u001b[37m\u001b[0m \u001b[1m11s\u001b[0m 1s/step - accuracy: 0.6320 - loss: 0.6407 - val_accuracy: 0.6160 - val_loss: 0.6488\n",
            "Epoch 35/50\n",
            "\u001b[1m6/6\u001b[0m \u001b[32m━━━━━━━━━━━━━━━━━━━━\u001b[0m\u001b[37m\u001b[0m \u001b[1m11s\u001b[0m 1s/step - accuracy: 0.6105 - loss: 0.6548 - val_accuracy: 0.6200 - val_loss: 0.6423\n",
            "Epoch 36/50\n",
            "\u001b[1m6/6\u001b[0m \u001b[32m━━━━━━━━━━━━━━━━━━━━\u001b[0m\u001b[37m\u001b[0m \u001b[1m9s\u001b[0m 1s/step - accuracy: 0.6314 - loss: 0.6410 - val_accuracy: 0.6480 - val_loss: 0.6313\n",
            "Epoch 37/50\n",
            "\u001b[1m6/6\u001b[0m \u001b[32m━━━━━━━━━━━━━━━━━━━━\u001b[0m\u001b[37m\u001b[0m \u001b[1m7s\u001b[0m 1s/step - accuracy: 0.6496 - loss: 0.6212 - val_accuracy: 0.6530 - val_loss: 0.6230\n",
            "Epoch 38/50\n",
            "\u001b[1m6/6\u001b[0m \u001b[32m━━━━━━━━━━━━━━━━━━━━\u001b[0m\u001b[37m\u001b[0m \u001b[1m11s\u001b[0m 1s/step - accuracy: 0.6647 - loss: 0.6171 - val_accuracy: 0.6570 - val_loss: 0.6113\n",
            "Epoch 39/50\n",
            "\u001b[1m6/6\u001b[0m \u001b[32m━━━━━━━━━━━━━━━━━━━━\u001b[0m\u001b[37m\u001b[0m \u001b[1m8s\u001b[0m 985ms/step - accuracy: 0.6686 - loss: 0.6063 - val_accuracy: 0.7000 - val_loss: 0.5996\n",
            "Epoch 40/50\n",
            "\u001b[1m6/6\u001b[0m \u001b[32m━━━━━━━━━━━━━━━━━━━━\u001b[0m\u001b[37m\u001b[0m \u001b[1m11s\u001b[0m 1s/step - accuracy: 0.6895 - loss: 0.5873 - val_accuracy: 0.6610 - val_loss: 0.6002\n",
            "Epoch 41/50\n",
            "\u001b[1m6/6\u001b[0m \u001b[32m━━━━━━━━━━━━━━━━━━━━\u001b[0m\u001b[37m\u001b[0m \u001b[1m12s\u001b[0m 1s/step - accuracy: 0.6755 - loss: 0.5949 - val_accuracy: 0.7080 - val_loss: 0.5930\n",
            "Epoch 42/50\n",
            "\u001b[1m6/6\u001b[0m \u001b[32m━━━━━━━━━━━━━━━━━━━━\u001b[0m\u001b[37m\u001b[0m \u001b[1m8s\u001b[0m 1s/step - accuracy: 0.7095 - loss: 0.5652 - val_accuracy: 0.6980 - val_loss: 0.5721\n",
            "Epoch 43/50\n",
            "\u001b[1m6/6\u001b[0m \u001b[32m━━━━━━━━━━━━━━━━━━━━\u001b[0m\u001b[37m\u001b[0m \u001b[1m9s\u001b[0m 1s/step - accuracy: 0.7221 - loss: 0.5527 - val_accuracy: 0.7120 - val_loss: 0.5639\n",
            "Epoch 44/50\n",
            "\u001b[1m6/6\u001b[0m \u001b[32m━━━━━━━━━━━━━━━━━━━━\u001b[0m\u001b[37m\u001b[0m \u001b[1m15s\u001b[0m 2s/step - accuracy: 0.7234 - loss: 0.5474 - val_accuracy: 0.7260 - val_loss: 0.5624\n",
            "Epoch 45/50\n",
            "\u001b[1m6/6\u001b[0m \u001b[32m━━━━━━━━━━━━━━━━━━━━\u001b[0m\u001b[37m\u001b[0m \u001b[1m17s\u001b[0m 1s/step - accuracy: 0.7375 - loss: 0.5254 - val_accuracy: 0.7000 - val_loss: 0.5564\n",
            "Epoch 46/50\n",
            "\u001b[1m6/6\u001b[0m \u001b[32m━━━━━━━━━━━━━━━━━━━━\u001b[0m\u001b[37m\u001b[0m \u001b[1m11s\u001b[0m 1s/step - accuracy: 0.7466 - loss: 0.5159 - val_accuracy: 0.7380 - val_loss: 0.5535\n",
            "Epoch 47/50\n",
            "\u001b[1m6/6\u001b[0m \u001b[32m━━━━━━━━━━━━━━━━━━━━\u001b[0m\u001b[37m\u001b[0m \u001b[1m11s\u001b[0m 1s/step - accuracy: 0.7665 - loss: 0.4913 - val_accuracy: 0.7450 - val_loss: 0.5350\n",
            "Epoch 48/50\n",
            "\u001b[1m6/6\u001b[0m \u001b[32m━━━━━━━━━━━━━━━━━━━━\u001b[0m\u001b[37m\u001b[0m \u001b[1m11s\u001b[0m 2s/step - accuracy: 0.7766 - loss: 0.4741 - val_accuracy: 0.7250 - val_loss: 0.5320\n",
            "Epoch 49/50\n",
            "\u001b[1m6/6\u001b[0m \u001b[32m━━━━━━━━━━━━━━━━━━━━\u001b[0m\u001b[37m\u001b[0m \u001b[1m7s\u001b[0m 1s/step - accuracy: 0.7671 - loss: 0.4754 - val_accuracy: 0.7570 - val_loss: 0.5220\n",
            "Epoch 50/50\n",
            "\u001b[1m6/6\u001b[0m \u001b[32m━━━━━━━━━━━━━━━━━━━━\u001b[0m\u001b[37m\u001b[0m \u001b[1m10s\u001b[0m 1s/step - accuracy: 0.7806 - loss: 0.4627 - val_accuracy: 0.7570 - val_loss: 0.5288\n"
          ]
        },
        {
          "output_type": "display_data",
          "data": {
            "text/plain": [
              "<Figure size 1200x500 with 2 Axes>"
            ],
            "image/png": "[encoded data removed]"
          },
          "metadata": {}
        }
      ],
      "execution_count": 32
    },
    {
      "cell_type": "code",
      "source": [
        "# Evaluate with a confusion matrix and classification report\n",
        "y_pred = model.predict(X_test)\n",
        "y_pred = (y_pred > 0.5)\n",
        "cm = confusion_matrix(y_test, y_pred)\n",
        "print(\"Confusion Matrix:\")\n",
        "print(cm)\n",
        "\n",
        "report = classification_report(y_test, y_pred)\n",
        "print(\"Classification Report:\")\n",
        "print(report)"
      ],
      "metadata": {
        "trusted": true,
        "execution": {
          "iopub.status.busy": "2025-03-07T18:30:17.010162Z",
          "iopub.execute_input": "2025-03-07T18:30:17.010987Z",
          "iopub.status.idle": "2025-03-07T18:30:17.830387Z",
          "shell.execute_reply.started": "2025-03-07T18:30:17.010958Z",
          "shell.execute_reply": "2025-03-07T18:30:17.829589Z"
        },
        "colab": {
          "base_uri": "https://localhost:8080/"
        },
        "id": "boZbIrAtLe9T",
        "outputId": "d4c756a6-656f-4c3e-d53a-a5b38bf0fe78"
      },
      "outputs": [
        {
          "output_type": "stream",
          "name": "stdout",
          "text": [
            "\u001b[1m32/32\u001b[0m \u001b[32m━━━━━━━━━━━━━━━━━━━━\u001b[0m\u001b[37m\u001b[0m \u001b[1m3s\u001b[0m 64ms/step\n",
            "Confusion Matrix:\n",
            "[[362 136]\n",
            " [107 395]]\n",
            "Classification Report:\n",
            "              precision    recall  f1-score   support\n",
            "\n",
            "           0       0.77      0.73      0.75       498\n",
            "           1       0.74      0.79      0.76       502\n",
            "\n",
            "    accuracy                           0.76      1000\n",
            "   macro avg       0.76      0.76      0.76      1000\n",
            "weighted avg       0.76      0.76      0.76      1000\n",
            "\n"
          ]
        }
      ],
      "execution_count": 33
    },
    {
      "cell_type": "markdown",
      "source": [
        "# Training LSTM"
      ],
      "metadata": {
        "id": "j3WGP7QlLe9U"
      }
    },
    {
      "cell_type": "code",
      "source": [
        "# Define improved model\n",
        "model = Sequential([\n",
        "    Embedding(input_dim=max_words, output_dim=300, input_length=max_sequence_length),  # Increased embedding size\n",
        "    Bidirectional(LSTM(128, return_sequences=True, recurrent_dropout=0.2)),  # Added recurrent dropout\n",
        "    LayerNormalization(),  # Added normalization for stability\n",
        "    Dropout(0.3),\n",
        "    Bidirectional(LSTM(128, recurrent_dropout=0.2)),\n",
        "    LayerNormalization(),\n",
        "    Dropout(0.3),\n",
        "    Dense(64, activation=\"relu\"),  # Extra dense layer\n",
        "    Dropout(0.2),\n",
        "    Dense(1, activation='sigmoid')  # Binary classification\n",
        "])\n",
        "\n",
        "# Compile with lower learning rate\n",
        "model.compile(loss='binary_crossentropy', optimizer=Adam(learning_rate=5e-5), metrics=['accuracy'])\n",
        "\n",
        "# Early stopping\n",
        "early_stopping = EarlyStopping(monitor='val_loss', patience=5, restore_best_weights=True)\n",
        "\n",
        "# Train model\n",
        "history = model.fit(X_train, y_train, epochs=50, batch_size=512, validation_data=(X_test, y_test), callbacks=[early_stopping], verbose=1)\n"
      ],
      "metadata": {
        "trusted": true,
        "execution": {
          "iopub.status.busy": "2025-03-07T18:30:22.522118Z",
          "iopub.execute_input": "2025-03-07T18:30:22.522768Z",
          "iopub.status.idle": "2025-03-07T18:33:30.513453Z",
          "shell.execute_reply.started": "2025-03-07T18:30:22.522739Z",
          "shell.execute_reply": "2025-03-07T18:33:30.512575Z"
        },
        "colab": {
          "base_uri": "https://localhost:8080/"
        },
        "id": "XfDFdVJ_Le9V",
        "outputId": "cd34c00b-c829-470c-fd56-815113fe8c85"
      },
      "outputs": [
        {
          "output_type": "stream",
          "name": "stdout",
          "text": [
            "Epoch 1/50\n"
          ]
        },
        {
          "output_type": "stream",
          "name": "stderr",
          "text": [
            "/usr/local/lib/python3.11/dist-packages/keras/src/layers/core/embedding.py:90: UserWarning: Argument `input_length` is deprecated. Just remove it.\n",
            "  warnings.warn(\n"
          ]
        },
        {
          "output_type": "stream",
          "name": "stdout",
          "text": [
            "\u001b[1m6/6\u001b[0m \u001b[32m━━━━━━━━━━━━━━━━━━━━\u001b[0m\u001b[37m\u001b[0m \u001b[1m78s\u001b[0m 9s/step - accuracy: 0.4914 - loss: 0.8520 - val_accuracy: 0.5430 - val_loss: 0.6932\n",
            "Epoch 2/50\n",
            "\u001b[1m6/6\u001b[0m \u001b[32m━━━━━━━━━━━━━━━━━━━━\u001b[0m\u001b[37m\u001b[0m \u001b[1m66s\u001b[0m 10s/step - accuracy: 0.5097 - loss: 0.7856 - val_accuracy: 0.5540 - val_loss: 0.6801\n",
            "Epoch 3/50\n",
            "\u001b[1m6/6\u001b[0m \u001b[32m━━━━━━━━━━━━━━━━━━━━\u001b[0m\u001b[37m\u001b[0m \u001b[1m69s\u001b[0m 9s/step - accuracy: 0.5182 - loss: 0.7584 - val_accuracy: 0.5660 - val_loss: 0.6790\n",
            "Epoch 4/50\n",
            "\u001b[1m6/6\u001b[0m \u001b[32m━━━━━━━━━━━━━━━━━━━━\u001b[0m\u001b[37m\u001b[0m \u001b[1m82s\u001b[0m 9s/step - accuracy: 0.5463 - loss: 0.7126 - val_accuracy: 0.5770 - val_loss: 0.6699\n",
            "Epoch 5/50\n",
            "\u001b[1m6/6\u001b[0m \u001b[32m━━━━━━━━━━━━━━━━━━━━\u001b[0m\u001b[37m\u001b[0m \u001b[1m82s\u001b[0m 9s/step - accuracy: 0.5523 - loss: 0.7208 - val_accuracy: 0.5890 - val_loss: 0.6651\n",
            "Epoch 6/50\n",
            "\u001b[1m6/6\u001b[0m \u001b[32m━━━━━━━━━━━━━━━━━━━━\u001b[0m\u001b[37m\u001b[0m \u001b[1m84s\u001b[0m 10s/step - accuracy: 0.5571 - loss: 0.6998 - val_accuracy: 0.6050 - val_loss: 0.6604\n",
            "Epoch 7/50\n",
            "\u001b[1m6/6\u001b[0m \u001b[32m━━━━━━━━━━━━━━━━━━━━\u001b[0m\u001b[37m\u001b[0m \u001b[1m81s\u001b[0m 9s/step - accuracy: 0.5871 - loss: 0.6875 - val_accuracy: 0.6140 - val_loss: 0.6549\n",
            "Epoch 8/50\n",
            "\u001b[1m6/6\u001b[0m \u001b[32m━━━━━━━━━━━━━━━━━━━━\u001b[0m\u001b[37m\u001b[0m \u001b[1m55s\u001b[0m 9s/step - accuracy: 0.5878 - loss: 0.6778 - val_accuracy: 0.6300 - val_loss: 0.6469\n",
            "Epoch 9/50\n",
            "\u001b[1m6/6\u001b[0m \u001b[32m━━━━━━━━━━━━━━━━━━━━\u001b[0m\u001b[37m\u001b[0m \u001b[1m85s\u001b[0m 10s/step - accuracy: 0.5800 - loss: 0.6775 - val_accuracy: 0.6330 - val_loss: 0.6404\n",
            "Epoch 10/50\n",
            "\u001b[1m6/6\u001b[0m \u001b[32m━━━━━━━━━━━━━━━━━━━━\u001b[0m\u001b[37m\u001b[0m \u001b[1m61s\u001b[0m 10s/step - accuracy: 0.6305 - loss: 0.6403 - val_accuracy: 0.6480 - val_loss: 0.6302\n",
            "Epoch 11/50\n",
            "\u001b[1m6/6\u001b[0m \u001b[32m━━━━━━━━━━━━━━━━━━━━\u001b[0m\u001b[37m\u001b[0m \u001b[1m75s\u001b[0m 9s/step - accuracy: 0.6376 - loss: 0.6338 - val_accuracy: 0.6620 - val_loss: 0.6201\n",
            "Epoch 12/50\n",
            "\u001b[1m6/6\u001b[0m \u001b[32m━━━━━━━━━━━━━━━━━━━━\u001b[0m\u001b[37m\u001b[0m \u001b[1m79s\u001b[0m 9s/step - accuracy: 0.6584 - loss: 0.6196 - val_accuracy: 0.6760 - val_loss: 0.6077\n",
            "Epoch 13/50\n",
            "\u001b[1m6/6\u001b[0m \u001b[32m━━━━━━━━━━━━━━━━━━━━\u001b[0m\u001b[37m\u001b[0m \u001b[1m54s\u001b[0m 9s/step - accuracy: 0.6682 - loss: 0.6040 - val_accuracy: 0.6860 - val_loss: 0.5917\n",
            "Epoch 14/50\n",
            "\u001b[1m6/6\u001b[0m \u001b[32m━━━━━━━━━━━━━━━━━━━━\u001b[0m\u001b[37m\u001b[0m \u001b[1m81s\u001b[0m 9s/step - accuracy: 0.7058 - loss: 0.5720 - val_accuracy: 0.7040 - val_loss: 0.5733\n",
            "Epoch 15/50\n",
            "\u001b[1m6/6\u001b[0m \u001b[32m━━━━━━━━━━━━━━━━━━━━\u001b[0m\u001b[37m\u001b[0m \u001b[1m86s\u001b[0m 10s/step - accuracy: 0.7087 - loss: 0.5590 - val_accuracy: 0.7120 - val_loss: 0.5588\n",
            "Epoch 16/50\n",
            "\u001b[1m6/6\u001b[0m \u001b[32m━━━━━━━━━━━━━━━━━━━━\u001b[0m\u001b[37m\u001b[0m \u001b[1m78s\u001b[0m 9s/step - accuracy: 0.7190 - loss: 0.5552 - val_accuracy: 0.7230 - val_loss: 0.5476\n",
            "Epoch 17/50\n",
            "\u001b[1m6/6\u001b[0m \u001b[32m━━━━━━━━━━━━━━━━━━━━\u001b[0m\u001b[37m\u001b[0m \u001b[1m82s\u001b[0m 9s/step - accuracy: 0.7438 - loss: 0.5255 - val_accuracy: 0.7290 - val_loss: 0.5358\n",
            "Epoch 18/50\n",
            "\u001b[1m6/6\u001b[0m \u001b[32m━━━━━━━━━━━━━━━━━━━━\u001b[0m\u001b[37m\u001b[0m \u001b[1m80s\u001b[0m 9s/step - accuracy: 0.7440 - loss: 0.5107 - val_accuracy: 0.7240 - val_loss: 0.5323\n",
            "Epoch 19/50\n",
            "\u001b[1m6/6\u001b[0m \u001b[32m━━━━━━━━━━━━━━━━━━━━\u001b[0m\u001b[37m\u001b[0m \u001b[1m82s\u001b[0m 9s/step - accuracy: 0.7719 - loss: 0.4738 - val_accuracy: 0.7360 - val_loss: 0.5231\n",
            "Epoch 20/50\n",
            "\u001b[1m6/6\u001b[0m \u001b[32m━━━━━━━━━━━━━━━━━━━━\u001b[0m\u001b[37m\u001b[0m \u001b[1m60s\u001b[0m 10s/step - accuracy: 0.7804 - loss: 0.4618 - val_accuracy: 0.7350 - val_loss: 0.5193\n",
            "Epoch 21/50\n",
            "\u001b[1m6/6\u001b[0m \u001b[32m━━━━━━━━━━━━━━━━━━━━\u001b[0m\u001b[37m\u001b[0m \u001b[1m55s\u001b[0m 9s/step - accuracy: 0.8051 - loss: 0.4413 - val_accuracy: 0.7330 - val_loss: 0.5174\n",
            "Epoch 22/50\n",
            "\u001b[1m6/6\u001b[0m \u001b[32m━━━━━━━━━━━━━━━━━━━━\u001b[0m\u001b[37m\u001b[0m \u001b[1m56s\u001b[0m 9s/step - accuracy: 0.8151 - loss: 0.4073 - val_accuracy: 0.7470 - val_loss: 0.5137\n",
            "Epoch 23/50\n",
            "\u001b[1m6/6\u001b[0m \u001b[32m━━━━━━━━━━━━━━━━━━━━\u001b[0m\u001b[37m\u001b[0m \u001b[1m81s\u001b[0m 9s/step - accuracy: 0.8222 - loss: 0.4087 - val_accuracy: 0.7470 - val_loss: 0.5121\n",
            "Epoch 24/50\n",
            "\u001b[1m6/6\u001b[0m \u001b[32m━━━━━━━━━━━━━━━━━━━━\u001b[0m\u001b[37m\u001b[0m \u001b[1m81s\u001b[0m 9s/step - accuracy: 0.8218 - loss: 0.3915 - val_accuracy: 0.7570 - val_loss: 0.5065\n",
            "Epoch 25/50\n",
            "\u001b[1m6/6\u001b[0m \u001b[32m━━━━━━━━━━━━━━━━━━━━\u001b[0m\u001b[37m\u001b[0m \u001b[1m81s\u001b[0m 9s/step - accuracy: 0.8472 - loss: 0.3638 - val_accuracy: 0.7640 - val_loss: 0.5067\n",
            "Epoch 26/50\n",
            "\u001b[1m6/6\u001b[0m \u001b[32m━━━━━━━━━━━━━━━━━━━━\u001b[0m\u001b[37m\u001b[0m \u001b[1m82s\u001b[0m 9s/step - accuracy: 0.8517 - loss: 0.3546 - val_accuracy: 0.7630 - val_loss: 0.5018\n",
            "Epoch 27/50\n",
            "\u001b[1m6/6\u001b[0m \u001b[32m━━━━━━━━━━━━━━━━━━━━\u001b[0m\u001b[37m\u001b[0m \u001b[1m83s\u001b[0m 9s/step - accuracy: 0.8544 - loss: 0.3516 - val_accuracy: 0.7760 - val_loss: 0.5089\n",
            "Epoch 28/50\n",
            "\u001b[1m6/6\u001b[0m \u001b[32m━━━━━━━━━━━━━━━━━━━━\u001b[0m\u001b[37m\u001b[0m \u001b[1m82s\u001b[0m 9s/step - accuracy: 0.8586 - loss: 0.3276 - val_accuracy: 0.7760 - val_loss: 0.5116\n",
            "Epoch 29/50\n",
            "\u001b[1m6/6\u001b[0m \u001b[32m━━━━━━━━━━━━━━━━━━━━\u001b[0m\u001b[37m\u001b[0m \u001b[1m84s\u001b[0m 10s/step - accuracy: 0.8635 - loss: 0.3391 - val_accuracy: 0.7830 - val_loss: 0.5159\n",
            "Epoch 30/50\n",
            "\u001b[1m6/6\u001b[0m \u001b[32m━━━━━━━━━━━━━━━━━━━━\u001b[0m\u001b[37m\u001b[0m \u001b[1m79s\u001b[0m 9s/step - accuracy: 0.8764 - loss: 0.3010 - val_accuracy: 0.7820 - val_loss: 0.5185\n",
            "Epoch 31/50\n",
            "\u001b[1m6/6\u001b[0m \u001b[32m━━━━━━━━━━━━━━━━━━━━\u001b[0m\u001b[37m\u001b[0m \u001b[1m86s\u001b[0m 10s/step - accuracy: 0.8776 - loss: 0.2970 - val_accuracy: 0.7820 - val_loss: 0.5273\n"
          ]
        }
      ],
      "execution_count": 34
    },
    {
      "cell_type": "markdown",
      "source": [
        "# Model Evaluation"
      ],
      "metadata": {
        "id": "hz8OE7t_Le9V"
      }
    },
    {
      "cell_type": "code",
      "source": [
        "import matplotlib.pyplot as plt\n",
        "\n",
        "# Extract values from history\n",
        "epochs = range(1, len(history.history['accuracy']) + 1)\n",
        "train_acc = history.history['accuracy']\n",
        "val_acc = history.history['val_accuracy']\n",
        "train_loss = history.history['loss']\n",
        "val_loss = history.history['val_loss']\n",
        "\n",
        "# Plot Accuracy\n",
        "plt.figure(figsize=(12, 5))\n",
        "\n",
        "plt.subplot(1, 2, 1)\n",
        "plt.plot(epochs, train_acc, 'bo-', label='Training Accuracy')\n",
        "plt.plot(epochs, val_acc, 'r*-', label='Validation Accuracy')\n",
        "plt.xlabel('Epochs')\n",
        "plt.ylabel('Accuracy')\n",
        "plt.title('Training vs Validation Accuracy')\n",
        "plt.legend()\n",
        "\n",
        "# Plot Loss\n",
        "plt.subplot(1, 2, 2)\n",
        "plt.plot(epochs, train_loss, 'bo-', label='Training Loss')\n",
        "plt.plot(epochs, val_loss, 'r*-', label='Validation Loss')\n",
        "plt.xlabel('Epochs')\n",
        "plt.ylabel('Loss')\n",
        "plt.title('Training vs Validation Loss')\n",
        "plt.legend()\n",
        "\n",
        "plt.show()\n"
      ],
      "metadata": {
        "trusted": true,
        "execution": {
          "iopub.status.busy": "2025-03-07T18:33:30.515205Z",
          "iopub.execute_input": "2025-03-07T18:33:30.515929Z",
          "iopub.status.idle": "2025-03-07T18:33:30.928851Z",
          "shell.execute_reply.started": "2025-03-07T18:33:30.515893Z",
          "shell.execute_reply": "2025-03-07T18:33:30.928087Z"
        },
        "colab": {
          "base_uri": "https://localhost:8080/",
          "height": 487
        },
        "id": "Flet5r41Le9W",
        "outputId": "2d13d092-0dfc-4809-f35c-2d37fceb66df"
      },
      "outputs": [
        {
          "output_type": "display_data",
          "data": {
            "text/plain": [
              "<Figure size 1200x500 with 2 Axes>"
            ],
            "image/png": "[encoded data removed]"
          },
          "metadata": {}
        }
      ],
      "execution_count": 35
    },
    {
      "cell_type": "code",
      "source": [
        "# Evaluate with a confusion matrix and classification report\n",
        "y_pred = model.predict(X_test)\n",
        "y_pred = (y_pred > 0.5)\n",
        "cm = confusion_matrix(y_test, y_pred)\n",
        "print(\"Confusion Matrix:\")\n",
        "print(cm)\n",
        "\n",
        "report = classification_report(y_test, y_pred)\n",
        "print(\"Classification Report:\")\n",
        "print(report)"
      ],
      "metadata": {
        "execution": {
          "iopub.status.busy": "2025-03-07T18:33:30.930094Z",
          "iopub.execute_input": "2025-03-07T18:33:30.930729Z",
          "iopub.status.idle": "2025-03-07T18:33:34.383428Z",
          "shell.execute_reply.started": "2025-03-07T18:33:30.930694Z",
          "shell.execute_reply": "2025-03-07T18:33:34.382711Z"
        },
        "trusted": true,
        "colab": {
          "base_uri": "https://localhost:8080/"
        },
        "id": "3GR_M645Le9W",
        "outputId": "b71a998d-9b81-43c4-bb70-368e870895d4"
      },
      "outputs": [
        {
          "output_type": "stream",
          "name": "stdout",
          "text": [
            "\u001b[1m32/32\u001b[0m \u001b[32m━━━━━━━━━━━━━━━━━━━━\u001b[0m\u001b[37m\u001b[0m \u001b[1m12s\u001b[0m 317ms/step\n",
            "Confusion Matrix:\n",
            "[[376 122]\n",
            " [115 387]]\n",
            "Classification Report:\n",
            "              precision    recall  f1-score   support\n",
            "\n",
            "           0       0.77      0.76      0.76       498\n",
            "           1       0.76      0.77      0.77       502\n",
            "\n",
            "    accuracy                           0.76      1000\n",
            "   macro avg       0.76      0.76      0.76      1000\n",
            "weighted avg       0.76      0.76      0.76      1000\n",
            "\n"
          ]
        }
      ],
      "execution_count": 36
    },
    {
      "cell_type": "markdown",
      "source": [
        "# Training GRU"
      ],
      "metadata": {
        "id": "nO0xRc-bLe9X"
      }
    },
    {
      "cell_type": "code",
      "source": [
        "\n",
        "\n",
        "# Define improved GRU model\n",
        "model = Sequential([\n",
        "    Embedding(input_dim=max_words, output_dim=300, input_length=max_sequence_length),  # Increased embedding size\n",
        "    GRU(128, return_sequences=True, dropout=0.3, recurrent_dropout=0.2),  # GRU layer with dropout\n",
        "    LayerNormalization(),  # Added normalization for stability\n",
        "    GRU(128, dropout=0.3, recurrent_dropout=0.2),  # Second GRU layer\n",
        "    LayerNormalization(),\n",
        "    Dropout(0.3),\n",
        "    Dense(64, activation=\"relu\"),  # Extra dense layer\n",
        "    Dropout(0.2),\n",
        "    Dense(1, activation='sigmoid')  # Binary classification\n",
        "])\n",
        "\n",
        "# Compile with lower learning rate\n",
        "model.compile(loss='binary_crossentropy', optimizer=Adam(learning_rate=5e-5), metrics=['accuracy'])\n",
        "\n",
        "# Early stopping\n",
        "early_stopping = EarlyStopping(monitor='val_loss', patience=5, restore_best_weights=True)\n",
        "\n",
        "# Train model\n",
        "history = model.fit(X_train, y_train, epochs=50, batch_size=512, validation_data=(X_test, y_test), callbacks=[early_stopping], verbose=1)\n",
        "\n",
        "# Extract values from history\n",
        "epochs = range(1, len(history.history['accuracy']) + 1)\n",
        "train_acc = history.history['accuracy']\n",
        "val_acc = history.history['val_accuracy']\n",
        "train_loss = history.history['loss']\n",
        "val_loss = history.history['val_loss']\n",
        "\n",
        "# Plot Accuracy\n",
        "plt.figure(figsize=(12, 5))\n",
        "\n",
        "plt.subplot(1, 2, 1)\n",
        "plt.plot(epochs, train_acc, 'bo-', label='Training Accuracy')\n",
        "plt.plot(epochs, val_acc, 'r*-', label='Validation Accuracy')\n",
        "plt.xlabel('Epochs')\n",
        "plt.ylabel('Accuracy')\n",
        "plt.title('Training vs Validation Accuracy')\n",
        "plt.legend()\n",
        "\n",
        "# Plot Loss\n",
        "plt.subplot(1, 2, 2)\n",
        "plt.plot(epochs, train_loss, 'bo-', label='Training Loss')\n",
        "plt.plot(epochs, val_loss, 'r*-', label='Validation Loss')\n",
        "plt.xlabel('Epochs')\n",
        "plt.ylabel('Loss')\n",
        "plt.title('Training vs Validation Loss')\n",
        "plt.legend()\n",
        "\n",
        "plt.show()\n",
        "\n",
        "\n",
        "\n",
        "# Evaluate with a confusion matrix and classification report\n",
        "y_pred = model.predict(X_test)\n",
        "y_pred = (y_pred > 0.5)\n",
        "cm = confusion_matrix(y_test, y_pred)\n",
        "print(\"Confusion Matrix:\")\n",
        "print(cm)\n",
        "\n",
        "report = classification_report(y_test, y_pred)\n",
        "print(\"Classification Report:\")\n",
        "print(report)"
      ],
      "metadata": {
        "trusted": true,
        "execution": {
          "iopub.status.busy": "2025-03-07T18:33:34.384874Z",
          "iopub.execute_input": "2025-03-07T18:33:34.385126Z",
          "iopub.status.idle": "2025-03-07T18:36:21.689523Z",
          "shell.execute_reply.started": "2025-03-07T18:33:34.385102Z",
          "shell.execute_reply": "2025-03-07T18:36:21.688631Z"
        },
        "colab": {
          "base_uri": "https://localhost:8080/",
          "height": 1000
        },
        "id": "fUD31rHfLe9X",
        "outputId": "321901d7-5093-4bfb-b1e1-413abf10e884"
      },
      "outputs": [
        {
          "output_type": "stream",
          "name": "stdout",
          "text": [
            "Epoch 1/50\n"
          ]
        },
        {
          "output_type": "stream",
          "name": "stderr",
          "text": [
            "/usr/local/lib/python3.11/dist-packages/keras/src/layers/core/embedding.py:90: UserWarning: Argument `input_length` is deprecated. Just remove it.\n",
            "  warnings.warn(\n"
          ]
        },
        {
          "output_type": "stream",
          "name": "stdout",
          "text": [
            "\u001b[1m6/6\u001b[0m \u001b[32m━━━━━━━━━━━━━━━━━━━━\u001b[0m\u001b[37m\u001b[0m \u001b[1m35s\u001b[0m 4s/step - accuracy: 0.5124 - loss: 1.1390 - val_accuracy: 0.4830 - val_loss: 0.9401\n",
            "Epoch 2/50\n",
            "\u001b[1m6/6\u001b[0m \u001b[32m━━━━━━━━━━━━━━━━━━━━\u001b[0m\u001b[37m\u001b[0m \u001b[1m20s\u001b[0m 3s/step - accuracy: 0.5237 - loss: 0.9992 - val_accuracy: 0.5030 - val_loss: 0.8321\n",
            "Epoch 3/50\n",
            "\u001b[1m6/6\u001b[0m \u001b[32m━━━━━━━━━━━━━━━━━━━━\u001b[0m\u001b[37m\u001b[0m \u001b[1m22s\u001b[0m 4s/step - accuracy: 0.5235 - loss: 0.9316 - val_accuracy: 0.5260 - val_loss: 0.7767\n",
            "Epoch 4/50\n",
            "\u001b[1m6/6\u001b[0m \u001b[32m━━━━━━━━━━━━━━━━━━━━\u001b[0m\u001b[37m\u001b[0m \u001b[1m39s\u001b[0m 3s/step - accuracy: 0.5212 - loss: 0.8834 - val_accuracy: 0.5370 - val_loss: 0.7556\n",
            "Epoch 5/50\n",
            "\u001b[1m6/6\u001b[0m \u001b[32m━━━━━━━━━━━━━━━━━━━━\u001b[0m\u001b[37m\u001b[0m \u001b[1m20s\u001b[0m 3s/step - accuracy: 0.5499 - loss: 0.8329 - val_accuracy: 0.5430 - val_loss: 0.7511\n",
            "Epoch 6/50\n",
            "\u001b[1m6/6\u001b[0m \u001b[32m━━━━━━━━━━━━━━━━━━━━\u001b[0m\u001b[37m\u001b[0m \u001b[1m23s\u001b[0m 4s/step - accuracy: 0.5332 - loss: 0.8015 - val_accuracy: 0.5490 - val_loss: 0.7510\n",
            "Epoch 7/50\n",
            "\u001b[1m6/6\u001b[0m \u001b[32m━━━━━━━━━━━━━━━━━━━━\u001b[0m\u001b[37m\u001b[0m \u001b[1m19s\u001b[0m 3s/step - accuracy: 0.5387 - loss: 0.7959 - val_accuracy: 0.5470 - val_loss: 0.7483\n",
            "Epoch 8/50\n",
            "\u001b[1m6/6\u001b[0m \u001b[32m━━━━━━━━━━━━━━━━━━━━\u001b[0m\u001b[37m\u001b[0m \u001b[1m24s\u001b[0m 4s/step - accuracy: 0.5447 - loss: 0.7802 - val_accuracy: 0.5510 - val_loss: 0.7386\n",
            "Epoch 9/50\n",
            "\u001b[1m6/6\u001b[0m \u001b[32m━━━━━━━━━━━━━━━━━━━━\u001b[0m\u001b[37m\u001b[0m \u001b[1m40s\u001b[0m 4s/step - accuracy: 0.5702 - loss: 0.7497 - val_accuracy: 0.5630 - val_loss: 0.7242\n",
            "Epoch 10/50\n",
            "\u001b[1m6/6\u001b[0m \u001b[32m━━━━━━━━━━━━━━━━━━━━\u001b[0m\u001b[37m\u001b[0m \u001b[1m20s\u001b[0m 3s/step - accuracy: 0.5458 - loss: 0.7752 - val_accuracy: 0.5710 - val_loss: 0.7076\n",
            "Epoch 11/50\n",
            "\u001b[1m6/6\u001b[0m \u001b[32m━━━━━━━━━━━━━━━━━━━━\u001b[0m\u001b[37m\u001b[0m \u001b[1m26s\u001b[0m 4s/step - accuracy: 0.5701 - loss: 0.7462 - val_accuracy: 0.5840 - val_loss: 0.6938\n",
            "Epoch 12/50\n",
            "\u001b[1m6/6\u001b[0m \u001b[32m━━━━━━━━━━━━━━━━━━━━\u001b[0m\u001b[37m\u001b[0m \u001b[1m37s\u001b[0m 4s/step - accuracy: 0.5739 - loss: 0.7370 - val_accuracy: 0.5890 - val_loss: 0.6830\n",
            "Epoch 13/50\n",
            "\u001b[1m6/6\u001b[0m \u001b[32m━━━━━━━━━━━━━━━━━━━━\u001b[0m\u001b[37m\u001b[0m \u001b[1m41s\u001b[0m 4s/step - accuracy: 0.5830 - loss: 0.7227 - val_accuracy: 0.6000 - val_loss: 0.6750\n",
            "Epoch 14/50\n",
            "\u001b[1m6/6\u001b[0m \u001b[32m━━━━━━━━━━━━━━━━━━━━\u001b[0m\u001b[37m\u001b[0m \u001b[1m41s\u001b[0m 4s/step - accuracy: 0.6045 - loss: 0.7090 - val_accuracy: 0.6060 - val_loss: 0.6692\n",
            "Epoch 15/50\n",
            "\u001b[1m6/6\u001b[0m \u001b[32m━━━━━━━━━━━━━━━━━━━━\u001b[0m\u001b[37m\u001b[0m \u001b[1m41s\u001b[0m 4s/step - accuracy: 0.6010 - loss: 0.7053 - val_accuracy: 0.6060 - val_loss: 0.6654\n",
            "Epoch 16/50\n",
            "\u001b[1m6/6\u001b[0m \u001b[32m━━━━━━━━━━━━━━━━━━━━\u001b[0m\u001b[37m\u001b[0m \u001b[1m22s\u001b[0m 4s/step - accuracy: 0.5939 - loss: 0.6936 - val_accuracy: 0.6140 - val_loss: 0.6616\n",
            "Epoch 17/50\n",
            "\u001b[1m6/6\u001b[0m \u001b[32m━━━━━━━━━━━━━━━━━━━━\u001b[0m\u001b[37m\u001b[0m \u001b[1m21s\u001b[0m 4s/step - accuracy: 0.6107 - loss: 0.6810 - val_accuracy: 0.6190 - val_loss: 0.6572\n",
            "Epoch 18/50\n",
            "\u001b[1m6/6\u001b[0m \u001b[32m━━━━━━━━━━━━━━━━━━━━\u001b[0m\u001b[37m\u001b[0m \u001b[1m40s\u001b[0m 4s/step - accuracy: 0.6109 - loss: 0.6757 - val_accuracy: 0.6220 - val_loss: 0.6533\n",
            "Epoch 19/50\n",
            "\u001b[1m6/6\u001b[0m \u001b[32m━━━━━━━━━━━━━━━━━━━━\u001b[0m\u001b[37m\u001b[0m \u001b[1m22s\u001b[0m 4s/step - accuracy: 0.6343 - loss: 0.6646 - val_accuracy: 0.6240 - val_loss: 0.6489\n",
            "Epoch 20/50\n",
            "\u001b[1m6/6\u001b[0m \u001b[32m━━━━━━━━━━━━━━━━━━━━\u001b[0m\u001b[37m\u001b[0m \u001b[1m40s\u001b[0m 4s/step - accuracy: 0.6359 - loss: 0.6614 - val_accuracy: 0.6300 - val_loss: 0.6454\n",
            "Epoch 21/50\n",
            "\u001b[1m6/6\u001b[0m \u001b[32m━━━━━━━━━━━━━━━━━━━━\u001b[0m\u001b[37m\u001b[0m \u001b[1m42s\u001b[0m 3s/step - accuracy: 0.6376 - loss: 0.6609 - val_accuracy: 0.6370 - val_loss: 0.6418\n",
            "Epoch 22/50\n",
            "\u001b[1m6/6\u001b[0m \u001b[32m━━━━━━━━━━━━━━━━━━━━\u001b[0m\u001b[37m\u001b[0m \u001b[1m20s\u001b[0m 3s/step - accuracy: 0.6361 - loss: 0.6489 - val_accuracy: 0.6500 - val_loss: 0.6372\n",
            "Epoch 23/50\n",
            "\u001b[1m6/6\u001b[0m \u001b[32m━━━━━━━━━━━━━━━━━━━━\u001b[0m\u001b[37m\u001b[0m \u001b[1m22s\u001b[0m 4s/step - accuracy: 0.6322 - loss: 0.6653 - val_accuracy: 0.6500 - val_loss: 0.6327\n",
            "Epoch 24/50\n",
            "\u001b[1m6/6\u001b[0m \u001b[32m━━━━━━━━━━━━━━━━━━━━\u001b[0m\u001b[37m\u001b[0m \u001b[1m20s\u001b[0m 3s/step - accuracy: 0.6405 - loss: 0.6404 - val_accuracy: 0.6550 - val_loss: 0.6303\n",
            "Epoch 25/50\n",
            "\u001b[1m6/6\u001b[0m \u001b[32m━━━━━━━━━━━━━━━━━━━━\u001b[0m\u001b[37m\u001b[0m \u001b[1m21s\u001b[0m 4s/step - accuracy: 0.6499 - loss: 0.6352 - val_accuracy: 0.6650 - val_loss: 0.6265\n",
            "Epoch 26/50\n",
            "\u001b[1m6/6\u001b[0m \u001b[32m━━━━━━━━━━━━━━━━━━━━\u001b[0m\u001b[37m\u001b[0m \u001b[1m21s\u001b[0m 4s/step - accuracy: 0.6637 - loss: 0.6187 - val_accuracy: 0.6640 - val_loss: 0.6226\n",
            "Epoch 27/50\n",
            "\u001b[1m6/6\u001b[0m \u001b[32m━━━━━━━━━━━━━━━━━━━━\u001b[0m\u001b[37m\u001b[0m \u001b[1m41s\u001b[0m 4s/step - accuracy: 0.6673 - loss: 0.6221 - val_accuracy: 0.6660 - val_loss: 0.6202\n",
            "Epoch 28/50\n",
            "\u001b[1m6/6\u001b[0m \u001b[32m━━━━━━━━━━━━━━━━━━━━\u001b[0m\u001b[37m\u001b[0m \u001b[1m40s\u001b[0m 3s/step - accuracy: 0.6671 - loss: 0.6222 - val_accuracy: 0.6700 - val_loss: 0.6185\n",
            "Epoch 29/50\n",
            "\u001b[1m6/6\u001b[0m \u001b[32m━━━━━━━━━━━━━━━━━━━━\u001b[0m\u001b[37m\u001b[0m \u001b[1m20s\u001b[0m 3s/step - accuracy: 0.6522 - loss: 0.6301 - val_accuracy: 0.6700 - val_loss: 0.6146\n",
            "Epoch 30/50\n",
            "\u001b[1m6/6\u001b[0m \u001b[32m━━━━━━━━━━━━━━━━━━━━\u001b[0m\u001b[37m\u001b[0m \u001b[1m22s\u001b[0m 4s/step - accuracy: 0.6728 - loss: 0.6118 - val_accuracy: 0.6780 - val_loss: 0.6115\n",
            "Epoch 31/50\n",
            "\u001b[1m6/6\u001b[0m \u001b[32m━━━━━━━━━━━━━━━━━━━━\u001b[0m\u001b[37m\u001b[0m \u001b[1m39s\u001b[0m 3s/step - accuracy: 0.6746 - loss: 0.6038 - val_accuracy: 0.6810 - val_loss: 0.6088\n",
            "Epoch 32/50\n",
            "\u001b[1m6/6\u001b[0m \u001b[32m━━━━━━━━━━━━━━━━━━━━\u001b[0m\u001b[37m\u001b[0m \u001b[1m20s\u001b[0m 3s/step - accuracy: 0.6901 - loss: 0.5900 - val_accuracy: 0.6810 - val_loss: 0.6075\n",
            "Epoch 33/50\n",
            "\u001b[1m6/6\u001b[0m \u001b[32m━━━━━━━━━━━━━━━━━━━━\u001b[0m\u001b[37m\u001b[0m \u001b[1m23s\u001b[0m 4s/step - accuracy: 0.6889 - loss: 0.5798 - val_accuracy: 0.6800 - val_loss: 0.6059\n",
            "Epoch 34/50\n",
            "\u001b[1m6/6\u001b[0m \u001b[32m━━━━━━━━━━━━━━━━━━━━\u001b[0m\u001b[37m\u001b[0m \u001b[1m41s\u001b[0m 4s/step - accuracy: 0.7065 - loss: 0.5794 - val_accuracy: 0.6840 - val_loss: 0.6050\n",
            "Epoch 35/50\n",
            "\u001b[1m6/6\u001b[0m \u001b[32m━━━━━━━━━━━━━━━━━━━━\u001b[0m\u001b[37m\u001b[0m \u001b[1m20s\u001b[0m 3s/step - accuracy: 0.6972 - loss: 0.5763 - val_accuracy: 0.6880 - val_loss: 0.6030\n",
            "Epoch 36/50\n",
            "\u001b[1m6/6\u001b[0m \u001b[32m━━━━━━━━━━━━━━━━━━━━\u001b[0m\u001b[37m\u001b[0m \u001b[1m22s\u001b[0m 3s/step - accuracy: 0.7212 - loss: 0.5482 - val_accuracy: 0.6890 - val_loss: 0.6021\n",
            "Epoch 37/50\n",
            "\u001b[1m6/6\u001b[0m \u001b[32m━━━━━━━━━━━━━━━━━━━━\u001b[0m\u001b[37m\u001b[0m \u001b[1m21s\u001b[0m 4s/step - accuracy: 0.7095 - loss: 0.5529 - val_accuracy: 0.6880 - val_loss: 0.6018\n",
            "Epoch 38/50\n",
            "\u001b[1m6/6\u001b[0m \u001b[32m━━━━━━━━━━━━━━━━━━━━\u001b[0m\u001b[37m\u001b[0m \u001b[1m40s\u001b[0m 3s/step - accuracy: 0.7234 - loss: 0.5366 - val_accuracy: 0.6870 - val_loss: 0.6011\n",
            "Epoch 39/50\n",
            "\u001b[1m6/6\u001b[0m \u001b[32m━━━━━━━━━━━━━━━━━━━━\u001b[0m\u001b[37m\u001b[0m \u001b[1m23s\u001b[0m 4s/step - accuracy: 0.7261 - loss: 0.5349 - val_accuracy: 0.6880 - val_loss: 0.5990\n",
            "Epoch 40/50\n",
            "\u001b[1m6/6\u001b[0m \u001b[32m━━━━━━━━━━━━━━━━━━━━\u001b[0m\u001b[37m\u001b[0m \u001b[1m21s\u001b[0m 4s/step - accuracy: 0.7276 - loss: 0.5441 - val_accuracy: 0.6910 - val_loss: 0.5983\n",
            "Epoch 41/50\n",
            "\u001b[1m6/6\u001b[0m \u001b[32m━━━━━━━━━━━━━━━━━━━━\u001b[0m\u001b[37m\u001b[0m \u001b[1m22s\u001b[0m 4s/step - accuracy: 0.7329 - loss: 0.5417 - val_accuracy: 0.6930 - val_loss: 0.5975\n",
            "Epoch 42/50\n",
            "\u001b[1m6/6\u001b[0m \u001b[32m━━━━━━━━━━━━━━━━━━━━\u001b[0m\u001b[37m\u001b[0m \u001b[1m20s\u001b[0m 3s/step - accuracy: 0.7500 - loss: 0.5235 - val_accuracy: 0.6890 - val_loss: 0.5979\n",
            "Epoch 43/50\n",
            "\u001b[1m6/6\u001b[0m \u001b[32m━━━━━━━━━━━━━━━━━━━━\u001b[0m\u001b[37m\u001b[0m \u001b[1m22s\u001b[0m 4s/step - accuracy: 0.7186 - loss: 0.5412 - val_accuracy: 0.6900 - val_loss: 0.5990\n",
            "Epoch 44/50\n",
            "\u001b[1m6/6\u001b[0m \u001b[32m━━━━━━━━━━━━━━━━━━━━\u001b[0m\u001b[37m\u001b[0m \u001b[1m41s\u001b[0m 4s/step - accuracy: 0.7423 - loss: 0.5333 - val_accuracy: 0.6930 - val_loss: 0.5997\n",
            "Epoch 45/50\n",
            "\u001b[1m6/6\u001b[0m \u001b[32m━━━━━━━━━━━━━━━━━━━━\u001b[0m\u001b[37m\u001b[0m \u001b[1m41s\u001b[0m 4s/step - accuracy: 0.7279 - loss: 0.5419 - val_accuracy: 0.6950 - val_loss: 0.5988\n",
            "Epoch 46/50\n",
            "\u001b[1m6/6\u001b[0m \u001b[32m━━━━━━━━━━━━━━━━━━━━\u001b[0m\u001b[37m\u001b[0m \u001b[1m41s\u001b[0m 4s/step - accuracy: 0.7385 - loss: 0.5303 - val_accuracy: 0.6950 - val_loss: 0.5991\n"
          ]
        },
        {
          "output_type": "display_data",
          "data": {
            "text/plain": [
              "<Figure size 1200x500 with 2 Axes>"
            ],
            "image/png": "[encoded data removed]"
          },
          "metadata": {}
        },
        {
          "output_type": "stream",
          "name": "stdout",
          "text": [
            "\u001b[1m32/32\u001b[0m \u001b[32m━━━━━━━━━━━━━━━━━━━━\u001b[0m\u001b[37m\u001b[0m \u001b[1m5s\u001b[0m 128ms/step\n",
            "Confusion Matrix:\n",
            "[[292 206]\n",
            " [101 401]]\n",
            "Classification Report:\n",
            "              precision    recall  f1-score   support\n",
            "\n",
            "           0       0.74      0.59      0.66       498\n",
            "           1       0.66      0.80      0.72       502\n",
            "\n",
            "    accuracy                           0.69      1000\n",
            "   macro avg       0.70      0.69      0.69      1000\n",
            "weighted avg       0.70      0.69      0.69      1000\n",
            "\n"
          ]
        }
      ],
      "execution_count": 37
    },
    {
      "cell_type": "markdown",
      "source": [
        "# Detection System"
      ],
      "metadata": {
        "id": "mHmLt-yHLe9X"
      }
    },
    {
      "cell_type": "code",
      "source": [
        "import numpy as np\n",
        "from tensorflow.keras.preprocessing.sequence import pad_sequences\n",
        "\n",
        "def predict_sentiment(text, model, tokenizer, max_sequence_length=100):\n",
        "    # clean text\n",
        "    text = clean_text(text)\n",
        "    # Convert text to sequence\n",
        "    sequence = tokenizer.texts_to_sequences([text])\n",
        "\n",
        "    # Pad sequence\n",
        "    padded_sequence = pad_sequences(sequence, maxlen=max_sequence_length)\n",
        "\n",
        "    # Predict sentiment\n",
        "    prediction = model.predict(padded_sequence)[0][0]  # Extract scalar value\n",
        "\n",
        "    # Determine sentiment\n",
        "    sentiment = \"Positive 😊\" if prediction > 0.5 else \"Negative 😡\"\n",
        "\n",
        "    return sentiment, float(prediction)\n",
        "\n",
        "# Example usage:\n",
        "test_sentences = [\n",
        "    \"I love this product! It's amazing.\",\n",
        "    \"This is the very bad service I have ever experienced. The is very bad movie\",\n",
        "    \"The movie was okay, not great but not terrible either.\"\n",
        "]\n",
        "\n",
        "for sentence in test_sentences:\n",
        "    sentiment, confidence = predict_sentiment(sentence, model, tokenizer)\n",
        "    print(f\"Text: {sentence}\\nPredicted Sentiment: {sentiment} (Confidence: {confidence:.4f})\\n\")\n"
      ],
      "metadata": {
        "trusted": true,
        "execution": {
          "iopub.status.busy": "2025-02-22T03:17:54.166013Z",
          "iopub.execute_input": "2025-02-22T03:17:54.166328Z",
          "iopub.status.idle": "2025-02-22T03:17:54.612397Z",
          "shell.execute_reply.started": "2025-02-22T03:17:54.166303Z",
          "shell.execute_reply": "2025-02-22T03:17:54.611517Z"
        },
        "colab": {
          "base_uri": "https://localhost:8080/"
        },
        "id": "Rs8qmMIALe9Y",
        "outputId": "1a06f4c1-51e1-402d-89eb-377241f9963f"
      },
      "outputs": [
        {
          "output_type": "stream",
          "name": "stdout",
          "text": [
            "\u001b[1m1/1\u001b[0m \u001b[32m━━━━━━━━━━━━━━━━━━━━\u001b[0m\u001b[37m\u001b[0m \u001b[1m0s\u001b[0m 95ms/step\n",
            "Text: I love this product! It's amazing.\n",
            "Predicted Sentiment: Positive 😊 (Confidence: 0.9262)\n",
            "\n",
            "\u001b[1m1/1\u001b[0m \u001b[32m━━━━━━━━━━━━━━━━━━━━\u001b[0m\u001b[37m\u001b[0m \u001b[1m0s\u001b[0m 100ms/step\n",
            "Text: This is the very bad service I have ever experienced. The is very bad movie\n",
            "Predicted Sentiment: Negative 😡 (Confidence: 0.1612)\n",
            "\n",
            "\u001b[1m1/1\u001b[0m \u001b[32m━━━━━━━━━━━━━━━━━━━━\u001b[0m\u001b[37m\u001b[0m \u001b[1m0s\u001b[0m 98ms/step\n",
            "Text: The movie was okay, not great but not terrible either.\n",
            "Predicted Sentiment: Positive 😊 (Confidence: 0.8465)\n",
            "\n"
          ]
        }
      ],
      "execution_count": 46
    },
    {
      "cell_type": "code",
      "source": [
        "model.save(\"lstm_model.h5\")  # Saves architecture, weights & optimizer\n",
        "\n",
        "\n",
        "import pickle\n",
        "\n",
        "with open(\"tokenizer.pkl\", \"wb\") as f:\n",
        "    pickle.dump(tokenizer, f)\n"
      ],
      "metadata": {
        "trusted": true,
        "execution": {
          "iopub.status.busy": "2025-02-22T03:20:20.854748Z",
          "iopub.execute_input": "2025-02-22T03:20:20.855168Z",
          "iopub.status.idle": "2025-02-22T03:20:20.971760Z",
          "shell.execute_reply.started": "2025-02-22T03:20:20.855138Z",
          "shell.execute_reply": "2025-02-22T03:20:20.970836Z"
        },
        "colab": {
          "base_uri": "https://localhost:8080/"
        },
        "id": "00WEKVvbLe9Z",
        "outputId": "5a7e7fde-1f70-4d74-a2e3-9fb0cfb87d2c"
      },
      "outputs": [
        {
          "output_type": "stream",
          "name": "stderr",
          "text": [
            "WARNING:absl:You are saving your model as an HDF5 file via `model.save()` or `keras.saving.save_model(model)`. This file format is considered legacy. We recommend using instead the native Keras format, e.g. `model.save('my_model.keras')` or `keras.saving.save_model(model, 'my_model.keras')`. \n"
          ]
        }
      ],
      "execution_count": 39
    },
    {
      "cell_type": "code",
      "source": [
        ""
      ],
      "metadata": {
        "trusted": true,
        "execution": {
          "iopub.status.busy": "2025-02-22T03:39:06.395127Z",
          "iopub.execute_input": "2025-02-22T03:39:06.395458Z",
          "iopub.status.idle": "2025-02-22T03:39:06.400307Z",
          "shell.execute_reply.started": "2025-02-22T03:39:06.395432Z",
          "shell.execute_reply": "2025-02-22T03:39:06.399433Z"
        },
        "colab": {
          "base_uri": "https://localhost:8080/"
        },
        "id": "bbNy_CAjLe9Z",
        "outputId": "36b4d7f0-0583-4e5d-b672-fa873586b034"
      },
      "outputs": [
        {
          "output_type": "stream",
          "name": "stdout",
          "text": [
            "2.18.0\n"
          ]
        }
      ],
      "execution_count": 40
    },
    {
      "cell_type": "code",
      "source": [
        "!pip install gradio\n"
      ],
      "metadata": {
        "colab": {
          "base_uri": "https://localhost:8080/"
        },
        "id": "o_1nZFpdT1gP",
        "outputId": "8b95fb8a-9cc1-40eb-e1ff-a32b9325a72e"
      },
      "execution_count": 41,
      "outputs": [
        {
          "output_type": "stream",
          "name": "stdout",
          "text": [
            "Requirement already satisfied: gradio in /usr/local/lib/python3.11/dist-packages (5.32.0)\n",
            "Requirement already satisfied: aiofiles<25.0,>=22.0 in /usr/local/lib/python3.11/dist-packages (from gradio) (24.1.0)\n",
            "Requirement already satisfied: anyio<5.0,>=3.0 in /usr/local/lib/python3.11/dist-packages (from gradio) (4.9.0)\n",
            "Requirement already satisfied: fastapi<1.0,>=0.115.2 in /usr/local/lib/python3.11/dist-packages (from gradio) (0.115.12)\n",
            "Requirement already satisfied: ffmpy in /usr/local/lib/python3.11/dist-packages (from gradio) (0.5.0)\n",
            "Requirement already satisfied: gradio-client==1.10.2 in /usr/local/lib/python3.11/dist-packages (from gradio) (1.10.2)\n",
            "Requirement already satisfied: groovy~=0.1 in /usr/local/lib/python3.11/dist-packages (from gradio) (0.1.2)\n",
            "Requirement already satisfied: httpx>=0.24.1 in /usr/local/lib/python3.11/dist-packages (from gradio) (0.28.1)\n",
            "Requirement already satisfied: huggingface-hub>=0.28.1 in /usr/local/lib/python3.11/dist-packages (from gradio) (0.31.4)\n",
            "Requirement already satisfied: jinja2<4.0 in /usr/local/lib/python3.11/dist-packages (from gradio) (3.1.6)\n",
            "Requirement already satisfied: markupsafe<4.0,>=2.0 in /usr/local/lib/python3.11/dist-packages (from gradio) (3.0.2)\n",
            "Requirement already satisfied: numpy<3.0,>=1.0 in /usr/local/lib/python3.11/dist-packages (from gradio) (2.0.2)\n",
            "Requirement already satisfied: orjson~=3.0 in /usr/local/lib/python3.11/dist-packages (from gradio) (3.10.18)\n",
            "Requirement already satisfied: packaging in /usr/local/lib/python3.11/dist-packages (from gradio) (24.2)\n",
            "Requirement already satisfied: pandas<3.0,>=1.0 in /usr/local/lib/python3.11/dist-packages (from gradio) (2.2.2)\n",
            "Requirement already satisfied: pillow<12.0,>=8.0 in /usr/local/lib/python3.11/dist-packages (from gradio) (11.2.1)\n",
            "Requirement already satisfied: pydantic<2.12,>=2.0 in /usr/local/lib/python3.11/dist-packages (from gradio) (2.11.4)\n",
            "Requirement already satisfied: pydub in /usr/local/lib/python3.11/dist-packages (from gradio) (0.25.1)\n",
            "Requirement already satisfied: python-multipart>=0.0.18 in /usr/local/lib/python3.11/dist-packages (from gradio) (0.0.20)\n",
            "Requirement already satisfied: pyyaml<7.0,>=5.0 in /usr/local/lib/python3.11/dist-packages (from gradio) (6.0.2)\n",
            "Requirement already satisfied: ruff>=0.9.3 in /usr/local/lib/python3.11/dist-packages (from gradio) (0.11.12)\n",
            "Requirement already satisfied: safehttpx<0.2.0,>=0.1.6 in /usr/local/lib/python3.11/dist-packages (from gradio) (0.1.6)\n",
            "Requirement already satisfied: semantic-version~=2.0 in /usr/local/lib/python3.11/dist-packages (from gradio) (2.10.0)\n",
            "Requirement already satisfied: starlette<1.0,>=0.40.0 in /usr/local/lib/python3.11/dist-packages (from gradio) (0.46.2)\n",
            "Requirement already satisfied: tomlkit<0.14.0,>=0.12.0 in /usr/local/lib/python3.11/dist-packages (from gradio) (0.13.2)\n",
            "Requirement already satisfied: typer<1.0,>=0.12 in /usr/local/lib/python3.11/dist-packages (from gradio) (0.15.3)\n",
            "Requirement already satisfied: typing-extensions~=4.0 in /usr/local/lib/python3.11/dist-packages (from gradio) (4.13.2)\n",
            "Requirement already satisfied: uvicorn>=0.14.0 in /usr/local/lib/python3.11/dist-packages (from gradio) (0.34.3)\n",
            "Requirement already satisfied: fsspec in /usr/local/lib/python3.11/dist-packages (from gradio-client==1.10.2->gradio) (2025.3.2)\n",
            "Requirement already satisfied: websockets<16.0,>=10.0 in /usr/local/lib/python3.11/dist-packages (from gradio-client==1.10.2->gradio) (15.0.1)\n",
            "Requirement already satisfied: idna>=2.8 in /usr/local/lib/python3.11/dist-packages (from anyio<5.0,>=3.0->gradio) (3.10)\n",
            "Requirement already satisfied: sniffio>=1.1 in /usr/local/lib/python3.11/dist-packages (from anyio<5.0,>=3.0->gradio) (1.3.1)\n",
            "Requirement already satisfied: certifi in /usr/local/lib/python3.11/dist-packages (from httpx>=0.24.1->gradio) (2025.4.26)\n",
            "Requirement already satisfied: httpcore==1.* in /usr/local/lib/python3.11/dist-packages (from httpx>=0.24.1->gradio) (1.0.9)\n",
            "Requirement already satisfied: h11>=0.16 in /usr/local/lib/python3.11/dist-packages (from httpcore==1.*->httpx>=0.24.1->gradio) (0.16.0)\n",
            "Requirement already satisfied: filelock in /usr/local/lib/python3.11/dist-packages (from huggingface-hub>=0.28.1->gradio) (3.18.0)\n",
            "Requirement already satisfied: requests in /usr/local/lib/python3.11/dist-packages (from huggingface-hub>=0.28.1->gradio) (2.32.3)\n",
            "Requirement already satisfied: tqdm>=4.42.1 in /usr/local/lib/python3.11/dist-packages (from huggingface-hub>=0.28.1->gradio) (4.67.1)\n",
            "Requirement already satisfied: python-dateutil>=2.8.2 in /usr/local/lib/python3.11/dist-packages (from pandas<3.0,>=1.0->gradio) (2.9.0.post0)\n",
            "Requirement already satisfied: pytz>=2020.1 in /usr/local/lib/python3.11/dist-packages (from pandas<3.0,>=1.0->gradio) (2025.2)\n",
            "Requirement already satisfied: tzdata>=2022.7 in /usr/local/lib/python3.11/dist-packages (from pandas<3.0,>=1.0->gradio) (2025.2)\n",
            "Requirement already satisfied: annotated-types>=0.6.0 in /usr/local/lib/python3.11/dist-packages (from pydantic<2.12,>=2.0->gradio) (0.7.0)\n",
            "Requirement already satisfied: pydantic-core==2.33.2 in /usr/local/lib/python3.11/dist-packages (from pydantic<2.12,>=2.0->gradio) (2.33.2)\n",
            "Requirement already satisfied: typing-inspection>=0.4.0 in /usr/local/lib/python3.11/dist-packages (from pydantic<2.12,>=2.0->gradio) (0.4.1)\n",
            "Requirement already satisfied: click>=8.0.0 in /usr/local/lib/python3.11/dist-packages (from typer<1.0,>=0.12->gradio) (8.2.1)\n",
            "Requirement already satisfied: shellingham>=1.3.0 in /usr/local/lib/python3.11/dist-packages (from typer<1.0,>=0.12->gradio) (1.5.4)\n",
            "Requirement already satisfied: rich>=10.11.0 in /usr/local/lib/python3.11/dist-packages (from typer<1.0,>=0.12->gradio) (13.9.4)\n",
            "Requirement already satisfied: six>=1.5 in /usr/local/lib/python3.11/dist-packages (from python-dateutil>=2.8.2->pandas<3.0,>=1.0->gradio) (1.17.0)\n",
            "Requirement already satisfied: markdown-it-py>=2.2.0 in /usr/local/lib/python3.11/dist-packages (from rich>=10.11.0->typer<1.0,>=0.12->gradio) (3.0.0)\n",
            "Requirement already satisfied: pygments<3.0.0,>=2.13.0 in /usr/local/lib/python3.11/dist-packages (from rich>=10.11.0->typer<1.0,>=0.12->gradio) (2.19.1)\n",
            "Requirement already satisfied: charset-normalizer<4,>=2 in /usr/local/lib/python3.11/dist-packages (from requests->huggingface-hub>=0.28.1->gradio) (3.4.2)\n",
            "Requirement already satisfied: urllib3<3,>=1.21.1 in /usr/local/lib/python3.11/dist-packages (from requests->huggingface-hub>=0.28.1->gradio) (2.4.0)\n",
            "Requirement already satisfied: mdurl~=0.1 in /usr/local/lib/python3.11/dist-packages (from markdown-it-py>=2.2.0->rich>=10.11.0->typer<1.0,>=0.12->gradio) (0.1.2)\n"
          ]
        }
      ]
    },
    {
      "cell_type": "code",
      "source": [
        "# ✅ Imports\n",
        "import gradio as gr\n",
        "from tensorflow.keras.models import load_model\n",
        "import pickle\n",
        "import numpy as np\n",
        "from tensorflow.keras.preprocessing.sequence import pad_sequences\n",
        "\n",
        "# ✅ Load saved model and tokenizer\n",
        "model = load_model(\"lstm_model.h5\")\n",
        "\n",
        "with open(\"tokenizer.pkl\", \"rb\") as f:\n",
        "    tokenizer = pickle.load(f)\n",
        "\n",
        "# ✅ Text cleaning function (same as training time)\n",
        "def clean_text(text):\n",
        "    import re\n",
        "    from nltk.corpus import stopwords\n",
        "    from nltk.stem import PorterStemmer\n",
        "    import nltk\n",
        "    nltk.download('stopwords', quiet=True)\n",
        "\n",
        "    ps = PorterStemmer()\n",
        "    stop_words = set(stopwords.words('english'))\n",
        "    text = text.lower()\n",
        "    text = re.sub(r'[^a-z\\s]', '', text)\n",
        "    words = text.split()\n",
        "    words = [ps.stem(word) for word in words if word not in stop_words]\n",
        "    return \" \".join(words)\n",
        "\n",
        "# ✅ Sentiment prediction function\n",
        "def predict_sentiment(text):\n",
        "    cleaned = clean_text(text)\n",
        "    sequence = tokenizer.texts_to_sequences([cleaned])\n",
        "    padded = pad_sequences(sequence, maxlen=100)\n",
        "    pred = model.predict(padded)[0][0]\n",
        "    label = \"Positive 😊\" if pred > 0.5 else \"Negative 😞\"\n",
        "    return f\"Prediction: {label}\\nConfidence Score: {pred:.2f}\"\n",
        "\n",
        "# ✅ Gradio UI\n",
        "gr.Interface(\n",
        "    fn=predict_sentiment,\n",
        "    inputs=gr.Textbox(lines=4, placeholder=\"Enter an Amazon review here...\"),\n",
        "    outputs=\"text\",\n",
        "    title=\"Amazon Review Sentiment Analyzer\",\n",
        "    description=\"Enter a product review to detect if it's Positive or Negative.\"\n",
        ").launch(share=True)  # ✅ This gives you a public link\n"
      ],
      "metadata": {
        "colab": {
          "base_uri": "https://localhost:8080/",
          "height": 628
        },
        "id": "7yvHXBUoT5YX",
        "outputId": "4b9d058b-4165-4623-f800-0d3697ad21a8"
      },
      "execution_count": 42,
      "outputs": [
        {
          "output_type": "stream",
          "name": "stderr",
          "text": [
            "WARNING:absl:Compiled the loaded model, but the compiled metrics have yet to be built. `model.compile_metrics` will be empty until you train or evaluate the model.\n"
          ]
        },
        {
          "output_type": "stream",
          "name": "stdout",
          "text": [
            "Colab notebook detected. To show errors in colab notebook, set debug=True in launch()\n",
            "* Running on public URL: https://08caa8bc133066b112.gradio.live\n",
            "\n",
            "This share link expires in 1 week. For free permanent hosting and GPU upgrades, run `gradio deploy` from the terminal in the working directory to deploy to Hugging Face Spaces (https://huggingface.co/spaces)\n"
          ]
        },
        {
          "output_type": "display_data",
          "data": {
            "text/plain": [
              "<IPython.core.display.HTML object>"
            ],
            "text/html": [
              "<div><iframe src=\"https://08caa8bc133066b112.gradio.live\" width=\"100%\" height=\"500\" allow=\"autoplay; camera; microphone; clipboard-read; clipboard-write;\" frameborder=\"0\" allowfullscreen></iframe></div>"
            ]
          },
          "metadata": {}
        },
        {
          "output_type": "execute_result",
          "data": {
            "text/plain": []
          },
          "metadata": {},
          "execution_count": 42
        }
      ]
    },
    {
      "cell_type": "markdown",
      "source": [
        "# Converting gradio code in .py file"
      ],
      "metadata": {
        "id": "ECGwvsVDUtZl"
      }
    },
    {
      "cell_type": "code",
      "source": [
        "with open(\"app.py\", \"w\") as f:\n",
        "    f.write('''import gradio as gr\n",
        "from tensorflow.keras.models import load_model\n",
        "import pickle\n",
        "import numpy as np\n",
        "from tensorflow.keras.preprocessing.sequence import pad_sequences\n",
        "\n",
        "# ✅ Load saved model and tokenizer\n",
        "model = load_model(\"lstm_model.h5\")\n",
        "\n",
        "with open(\"tokenizer.pkl\", \"rb\") as f:\n",
        "    tokenizer = pickle.load(f)\n",
        "\n",
        "# ✅ Text cleaning function (same as training time)\n",
        "def clean_text(text):\n",
        "    import re\n",
        "    from nltk.corpus import stopwords\n",
        "    from nltk.stem import PorterStemmer\n",
        "    import nltk\n",
        "    nltk.download('stopwords', quiet=True)\n",
        "\n",
        "    ps = PorterStemmer()\n",
        "    stop_words = set(stopwords.words('english'))\n",
        "    text = text.lower()\n",
        "    text = re.sub(r'[^a-z\\s]', '', text)\n",
        "    words = text.split()\n",
        "    words = [ps.stem(word) for word in words if word not in stop_words]\n",
        "    return \" \".join(words)\n",
        "\n",
        "# ✅ Sentiment prediction function\n",
        "def predict_sentiment(text):\n",
        "    cleaned = clean_text(text)\n",
        "    sequence = tokenizer.texts_to_sequences([cleaned])\n",
        "    padded = pad_sequences(sequence, maxlen=100)\n",
        "    pred = model.predict(padded)[0][0]\n",
        "    label = \"Positive 😊\" if pred > 0.5 else \"Negative 😞\"\n",
        "    return f\"Prediction: {label}\\nConfidence Score: {pred:.2f}\"\n",
        "\n",
        "# ✅ Gradio UI\n",
        "gr.Interface(\n",
        "    fn=predict_sentiment,\n",
        "    inputs=gr.Textbox(lines=4, placeholder=\"Enter an Amazon review here...\"),\n",
        "    outputs=\"text\",\n",
        "    title=\"Amazon Review Sentiment Analyzer\",\n",
        "    description=\"Enter a product review to detect if it's Positive or Negative.\"\n",
        ").launch()\n",
        "''')\n"
      ],
      "metadata": {
        "id": "J5VnoZmkqFqA"
      },
      "execution_count": 47,
      "outputs": []
    },
    {
      "cell_type": "code",
      "source": [],
      "metadata": {
        "id": "-f5OTxNvqIGo"
      },
      "execution_count": null,
      "outputs": []
    }
  ]
}